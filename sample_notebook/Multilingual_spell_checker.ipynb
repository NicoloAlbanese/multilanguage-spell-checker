{
  "nbformat": 4,
  "nbformat_minor": 0,
  "metadata": {
    "colab": {
      "name": "Multilingual_spell-checker.ipynb",
      "provenance": [],
      "collapsed_sections": [],
      "toc_visible": true
    },
    "kernelspec": {
      "name": "python3",
      "display_name": "Python 3"
    }
  },
  "cells": [
    {
      "cell_type": "markdown",
      "metadata": {
        "id": "jmppdC8oflJc"
      },
      "source": [
        "# Multilingual spell-checker\n",
        "\n",
        "*Nicolò Cosimo Albanese*"
      ]
    },
    {
      "cell_type": "markdown",
      "metadata": {
        "id": "pzQeBTnpfCAu"
      },
      "source": [
        "## 1. Environment Set-up"
      ]
    },
    {
      "cell_type": "markdown",
      "metadata": {
        "id": "Yzhn3uwgfEoe"
      },
      "source": [
        "### 1.1 Install Enchant\n",
        "\n",
        "For Google Colab:"
      ]
    },
    {
      "cell_type": "code",
      "metadata": {
        "id": "j1lLZGw_fJF2",
        "outputId": "67dc5335-f5dd-4e1f-c98a-146d6cd247dd",
        "colab": {
          "base_uri": "https://localhost:8080/"
        }
      },
      "source": [
        "!sudo apt-get install libenchant-dev"
      ],
      "execution_count": 1,
      "outputs": [
        {
          "output_type": "stream",
          "text": [
            "Reading package lists... Done\n",
            "Building dependency tree       \n",
            "Reading state information... Done\n",
            "libenchant-dev is already the newest version (1.6.0-11.1).\n",
            "0 upgraded, 0 newly installed, 0 to remove and 11 not upgraded.\n"
          ],
          "name": "stdout"
        }
      ]
    },
    {
      "cell_type": "markdown",
      "metadata": {
        "id": "Y0M03OqLfNyO"
      },
      "source": [
        "### 1.2 Install Dictionaries\n",
        "\n",
        "For Google Colab:"
      ]
    },
    {
      "cell_type": "code",
      "metadata": {
        "id": "BxNAqX9EfTeG",
        "outputId": "d9b835d6-78b5-414d-f9dc-7bf6aad91383",
        "colab": {
          "base_uri": "https://localhost:8080/"
        }
      },
      "source": [
        "!sudo apt-get install hunspell-it hunspell-es hunspell-de-de hunspell-fr"
      ],
      "execution_count": 2,
      "outputs": [
        {
          "output_type": "stream",
          "text": [
            "Reading package lists... Done\n",
            "Building dependency tree       \n",
            "Reading state information... Done\n",
            "hunspell-de-de is already the newest version (20161207-4).\n",
            "hunspell-es is already the newest version (1:6.0.3-3).\n",
            "hunspell-fr is already the newest version (1:6.2-1).\n",
            "hunspell-it is already the newest version (1:6.0.3-3).\n",
            "0 upgraded, 0 newly installed, 0 to remove and 11 not upgraded.\n"
          ],
          "name": "stdout"
        }
      ]
    },
    {
      "cell_type": "markdown",
      "metadata": {
        "id": "PlMe80DFfUR9"
      },
      "source": [
        "### 1.3 Install Python dependencies\n",
        "\n",
        "- PyEnchant\n",
        "- langdetect\n",
        "\n",
        "For Google Colab:"
      ]
    },
    {
      "cell_type": "code",
      "metadata": {
        "id": "zhzSNmK0fcmn",
        "outputId": "af9adde1-1da8-4181-d380-712defb01ed9",
        "colab": {
          "base_uri": "https://localhost:8080/"
        }
      },
      "source": [
        "!pip install pyenchant langdetect"
      ],
      "execution_count": 3,
      "outputs": [
        {
          "output_type": "stream",
          "text": [
            "Requirement already satisfied: pyenchant in /usr/local/lib/python3.6/dist-packages (3.1.1)\n",
            "Requirement already satisfied: langdetect in /usr/local/lib/python3.6/dist-packages (1.0.8)\n",
            "Requirement already satisfied: six in /usr/local/lib/python3.6/dist-packages (from langdetect) (1.15.0)\n"
          ],
          "name": "stdout"
        }
      ]
    },
    {
      "cell_type": "markdown",
      "metadata": {
        "id": "Xw69YkCRf7pz"
      },
      "source": [
        "## 2. Implementation"
      ]
    },
    {
      "cell_type": "code",
      "metadata": {
        "id": "bicEyBB2gNV3"
      },
      "source": [
        "import json\n",
        "\n",
        "\n",
        "class Language:\n",
        "    \"\"\"Language class\n",
        "        - lang [string]: language identifier (e.g.: en)\n",
        "        - prob [double]: probability (e.g. 0.999)\n",
        "    \"\"\"\n",
        "\n",
        "    def __init__(self, lang, prob):\n",
        "        self.lang = lang\n",
        "        self.prob = prob\n",
        "\n",
        "\n",
        "class SpellCheck:\n",
        "    \"\"\"SpellCheck class\n",
        "        - suggestion [string]: recommended sentence\n",
        "        - similarity [double]: measure of similarity between input and recommendation\n",
        "    \"\"\"\n",
        "\n",
        "    def __init__(self, suggestion, similarity):\n",
        "        self.suggestion = suggestion\n",
        "        self.similarity = similarity\n",
        "\n",
        "\n",
        "class Response:\n",
        "    \"\"\"Response class\n",
        "        - SpellCheck object:\n",
        "            - suggestion [string]: recommended sentence\n",
        "            - similarity [double]: measure of similarity between input and recommendation\n",
        "        - Language object:\n",
        "            - lang [string]: language identifier (e.g.: en)\n",
        "            - prob [double]: probability (e.g. 0.999)\n",
        "    \"\"\"\n",
        "\n",
        "    def __init__(self, Language, SpellCheck):\n",
        "        self.Language = Language\n",
        "        self.SpellCheck = SpellCheck\n",
        "\n",
        "    def __repr__(self):\n",
        "        return 'Response: (\\n\\tLanguage:\\n\\t\\tlang : \"%s\" \\n\\t\\tprob : \"%s\" \\n\\tSpellCheck:\\n\\t\\tsuggestion : \"%s\" ' \\\n",
        "               '\\n\\t\\tsimilarity : \"%s\" \\n)' % (\n",
        "                   self.Language.lang, self.Language.prob, self.SpellCheck.suggestion, self.SpellCheck.similarity)\n",
        "\n",
        "    def to_json(self):\n",
        "        return json.dumps(self, default=lambda o: o.__dict__, sort_keys=True, indent=4)\n"
      ],
      "execution_count": 4,
      "outputs": []
    },
    {
      "cell_type": "code",
      "metadata": {
        "id": "B5nK5krXgRgE"
      },
      "source": [
        "import string\n",
        "import enchant\n",
        "from difflib import SequenceMatcher\n",
        "from langdetect import detect_langs\n",
        "\n",
        "lang_to_dict =\t{\n",
        "  \"it\": \"it-IT\",\n",
        "  \"fr\": \"fr_FR\",\n",
        "  \"es\": \"es_ES\",\n",
        "  \"en\": \"en_GB\",\n",
        "  \"de\": \"de_DE\"\n",
        "}\n",
        "\n",
        "def map_language_to_dict(lang):\n",
        "  \"\"\"Determines hunspell dictionary to be used for spell-check\n",
        "  \n",
        "  :return hunspell dictionary given the input language\n",
        "  \"\"\"\n",
        "  if lang in lang_to_dict:\n",
        "    return lang_to_dict[lang]\n",
        "\n",
        "  return \"Unknown dictionary\"\n",
        "\n",
        "\n",
        "def detect_language(input, min_prob=0.9, get_prob=True):\n",
        "  \"\"\"Detect most likely language of input text\n",
        "  \n",
        "  Can specify 'min_prob' (default 0.9) as minimum probability\n",
        "  under which reject the detected language.\n",
        "\n",
        "  :return detected language\n",
        "  and also probability if 'get_prob' is True\n",
        "  \"\"\"\n",
        "  if not input:\n",
        "    return (\"Unknown language\", 0)\n",
        "\n",
        "  first_guess = detect_langs(input)[0]\n",
        "  prob = first_guess.prob\n",
        "  lang = first_guess.lang\n",
        "\n",
        "  if get_prob and prob > min_prob:\n",
        "    return (lang, prob)\n",
        "\n",
        "  if prob > min_prob:\n",
        "    return lang\n",
        "\n",
        "  return (\"Unknown language\", 0)\n",
        "\n",
        "\n",
        "def spellcheck(text, hunspell_dict):\n",
        "  \"\"\"Identify misspellings and correct input text\n",
        "\n",
        "  :return suggestion and a similarity measure with the input text\n",
        "  if no misspelling is found, a message is returned\n",
        "  \"\"\"\n",
        "  if hunspell_dict==\"Unknown dictionary\":\n",
        "    return \"No language detected or no dictionary available.\", 0\n",
        "\n",
        "  d = enchant.Dict(hunspell_dict)\n",
        "\n",
        "  suggestion = []\n",
        "  suggestion_similarity = []\n",
        "  replaced_terms = 0\n",
        "\n",
        "  # remove punctuation\n",
        "  text = text.translate(str.maketrans('', '', string.punctuation))\n",
        "\n",
        "  # for each token word in the input text\n",
        "  for token in text.split():\n",
        "    # if word is mispelled\n",
        "    if not d.check(token):\n",
        "      # replace it with new token from spell-check suggestion\n",
        "      new_token = d.suggest(token)[0]\n",
        "      suggestion.append(new_token)\n",
        "      # calculate similarity between original word and replacement\n",
        "      similarity = SequenceMatcher(None, new_token, token).ratio()\n",
        "      suggestion_similarity.append(similarity)\n",
        "      # increase the replacements counter\n",
        "      replaced_terms += 1\n",
        "    # if word is not mispelled, keep it as-is\n",
        "    else:\n",
        "      suggestion.append(token)\n",
        "      # if the word is identical, its similarity is 1\n",
        "      suggestion_similarity.append(1)\n",
        "\n",
        "  # calculate suggested sentence and overall similarity\n",
        "  suggested_text = \" \".join(suggestion)\n",
        "  overall_similarity = sum(suggestion_similarity) / len(suggestion_similarity)\n",
        "\n",
        "  # if no misspelling was found, return message\n",
        "  if replaced_terms == 0:\n",
        "    return \"No misspelling detected. Input text is correct.\", overall_similarity\n",
        "\n",
        "  return suggested_text, overall_similarity\n",
        "\n",
        "\n",
        "def process_input_text(text, min_prob = 0.9):\n",
        "  \"\"\"Identify language and suggest correction in case of misspellings\n",
        "  Takes input text and minimum desired probability for language detection\n",
        "\n",
        "  :return detected language, probability, suggestion and similarity\n",
        "  \"\"\"\n",
        "  lang, prob = detect_language(text, min_prob)\n",
        "  d = map_language_to_dict(lang)\n",
        "  suggestion, similarity = spellcheck(text, d)\n",
        "  result = Response(Language(lang, prob), SpellCheck(suggestion, similarity))\n",
        "\n",
        "  return result"
      ],
      "execution_count": 5,
      "outputs": []
    },
    {
      "cell_type": "markdown",
      "metadata": {
        "id": "DjxFck2Dgohx"
      },
      "source": [
        "### 2.1 Testing with some sentences"
      ]
    },
    {
      "cell_type": "code",
      "metadata": {
        "id": "CnEar9jngoC0",
        "outputId": "f83b04a0-051a-4362-b46d-bb51076446f9",
        "colab": {
          "base_uri": "https://localhost:8080/"
        }
      },
      "source": [
        "process_input_text(\"This englisch sentencee has some mistackes\", 0.99)"
      ],
      "execution_count": 12,
      "outputs": [
        {
          "output_type": "execute_result",
          "data": {
            "text/plain": [
              "Response: (\n",
              "\tLanguage:\n",
              "\t\tlang : \"en\" \n",
              "\t\tprob : \"0.9999944325753912\" \n",
              "\tSpellCheck:\n",
              "\t\tsuggestion : \"This English sentence has some mistakes\" \n",
              "\t\tsimilarity : \"0.9470588235294118\" \n",
              ")"
            ]
          },
          "metadata": {
            "tags": []
          },
          "execution_count": 12
        }
      ]
    },
    {
      "cell_type": "code",
      "metadata": {
        "id": "LolnMlT0g0nQ",
        "outputId": "b4e69929-5779-44eb-ec4a-e737f3648b95",
        "colab": {
          "base_uri": "https://localhost:8080/"
        }
      },
      "source": [
        "process_input_text(\"La France métropoltaine posède une grande variété de payssages\", 0.99)"
      ],
      "execution_count": 7,
      "outputs": [
        {
          "output_type": "execute_result",
          "data": {
            "text/plain": [
              "Response: (\n",
              "\tLanguage:\n",
              "\t\tlang : \"fr\" \n",
              "\t\tprob : \"0.9999964482516039\" \n",
              "\tSpellCheck:\n",
              "\t\tsuggestion : \"La France métropolitaine possède une grande variété de paysages\" \n",
              "\t\tsimilarity : \"0.9808018174031246\" \n",
              ")"
            ]
          },
          "metadata": {
            "tags": []
          },
          "execution_count": 7
        }
      ]
    },
    {
      "cell_type": "code",
      "metadata": {
        "id": "7pXNhjXfg7g9",
        "outputId": "0a020e1d-656d-421a-942a-1d0ec2323112",
        "colab": {
          "base_uri": "https://localhost:8080/"
        }
      },
      "source": [
        "process_input_text(\"La profesoresa insenga la matematica a scquola\", 0.99)"
      ],
      "execution_count": 8,
      "outputs": [
        {
          "output_type": "execute_result",
          "data": {
            "text/plain": [
              "Response: (\n",
              "\tLanguage:\n",
              "\t\tlang : \"it\" \n",
              "\t\tprob : \"0.9999934470729319\" \n",
              "\tSpellCheck:\n",
              "\t\tsuggestion : \"La professoressa insegna la matematica a scuola\" \n",
              "\t\tsimilarity : \"0.956698063840921\" \n",
              ")"
            ]
          },
          "metadata": {
            "tags": []
          },
          "execution_count": 8
        }
      ]
    },
    {
      "cell_type": "code",
      "metadata": {
        "id": "hpwtIrdVhTJa",
        "outputId": "b38cf076-fc62-4abc-c3c8-a55e89308cc0",
        "colab": {
          "base_uri": "https://localhost:8080/"
        }
      },
      "source": [
        "process_input_text(\"La historia comienza una mañana de octubre.\", 0.99)"
      ],
      "execution_count": 9,
      "outputs": [
        {
          "output_type": "execute_result",
          "data": {
            "text/plain": [
              "Response: (\n",
              "\tLanguage:\n",
              "\t\tlang : \"es\" \n",
              "\t\tprob : \"0.9999942235541004\" \n",
              "\tSpellCheck:\n",
              "\t\tsuggestion : \"No misspelling detected. Input text is correct.\" \n",
              "\t\tsimilarity : \"1.0\" \n",
              ")"
            ]
          },
          "metadata": {
            "tags": []
          },
          "execution_count": 9
        }
      ]
    },
    {
      "cell_type": "code",
      "metadata": {
        "id": "g8VLtKuvhjHX",
        "outputId": "2b85800a-ea3b-4771-af11-a4b4bc1bad0e",
        "colab": {
          "base_uri": "https://localhost:8080/"
        }
      },
      "source": [
        "process_input_text(\"englasdfcsd\", 0.99)"
      ],
      "execution_count": 10,
      "outputs": [
        {
          "output_type": "execute_result",
          "data": {
            "text/plain": [
              "Response: (\n",
              "\tLanguage:\n",
              "\t\tlang : \"Unknown language\" \n",
              "\t\tprob : \"0\" \n",
              "\tSpellCheck:\n",
              "\t\tsuggestion : \"No language detected or no dictionary available.\" \n",
              "\t\tsimilarity : \"0\" \n",
              ")"
            ]
          },
          "metadata": {
            "tags": []
          },
          "execution_count": 10
        }
      ]
    },
    {
      "cell_type": "markdown",
      "metadata": {
        "id": "0S-HpcMA3d56"
      },
      "source": [
        "The following is an example of \"Cupertino effect\": the word Huawei is correct, but it is replaced anyway, because it does not belong to the dictionaries/ knowledge base."
      ]
    },
    {
      "cell_type": "code",
      "metadata": {
        "id": "79HUanx0iD-9",
        "outputId": "2d537ba4-e9fc-4fcf-dd9a-c7da965fc0ec",
        "colab": {
          "base_uri": "https://localhost:8080/"
        }
      },
      "source": [
        "process_input_text(\"Do you know any colleagues in Huawei?\", 0.99)"
      ],
      "execution_count": 11,
      "outputs": [
        {
          "output_type": "execute_result",
          "data": {
            "text/plain": [
              "Response: (\n",
              "\tLanguage:\n",
              "\t\tlang : \"en\" \n",
              "\t\tprob : \"0.999997049545999\" \n",
              "\tSpellCheck:\n",
              "\t\tsuggestion : \"Do you know any colleagues in Hawaii\" \n",
              "\t\tsimilarity : \"0.9523809523809524\" \n",
              ")"
            ]
          },
          "metadata": {
            "tags": []
          },
          "execution_count": 11
        }
      ]
    }
  ]
}